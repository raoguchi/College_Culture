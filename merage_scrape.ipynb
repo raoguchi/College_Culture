{
 "cells": [
  {
   "cell_type": "markdown",
   "metadata": {},
   "source": [
    "This is an attempt to scalp the UCI Merage Website to use text features to understand the Merage Culture"
   ]
  },
  {
   "cell_type": "code",
   "execution_count": 91,
   "metadata": {},
   "outputs": [],
   "source": [
    "import re\n",
    "import bs4\n",
    "import requests\n",
    "from pathlib import Path\n",
    "import pandas as pd\n",
    "import numpy as np"
   ]
  },
  {
   "cell_type": "code",
   "execution_count": 132,
   "metadata": {},
   "outputs": [
    {
     "name": "stdout",
     "output_type": "stream",
     "text": [
      "Inspired Leadership, Digitally Driven\n",
      "As our lives become more digitally mediated, we must adapt both ourselves and our businesses for the disruption inherent in the digital environment.\n",
      "With this vision in mind, The Paul Merage School of Business has completely reframed its curricula to give students the high-caliber, holistic preparation they need to become effective leaders in a digitally-driven world.\n",
      "Top industry executives continually provide the Merage School input on how they see their respective industries changing through the impact of technology.\n",
      "Our transformed curricula reflect new business needs in the contemporary world, focusing on actionable ideas and building a new set of competencies suited to the digital age.\n",
      "Experience-based decision-making skills are integrated into the curriculum with data-driven decision-making at the forefront.\n",
      "Experiential learning components continue to provide real-world education, allowing teams of students to immerse themselves in valuable projects with area companies.\n",
      "Located in the heart of Orange County’s “Tech Coast,“ the Merage School is surrounded by a network of cutting-edge businesses in an evolving ecosystem of tech firms including Amazon, Google, and Western Digital, plus digitally-savvy firms including Capital Group, Disney, Experian, Hyundai, Pacific Life, and Taco Bell.\n",
      "It is in this environment that the Merage School prepares students for the disruptive technology forces they will encounter as future business leaders.\n",
      "The Paul Merage Legacy\n",
      "Paul Merage is a philanthropist, an innovative and successful entrepreneur, and a champion of education.\n",
      "Paul was born in Iran during World War II.\n",
      "In the early 1960s, his father sent him to the United States so that he might have a better future.\n",
      "He arrived alone and could barely speak English.\n",
      "However, he soon enrolled at Hope College in Michigan where he excelled as a top student, giving him the academic accomplishments necessary to transfer to UC Berkeley.\n",
      "By the time he was 22, he had earned both his bachelor’s degree and his MBA.\n",
      "Paul planned his career carefully. He researched the restaurant industry to find out what owners and customers needed most and eventually used this information to found Chef America.\n",
      "With an eye for change, Paul recognized the demographic and social shifts in America — more working parents, less time to prepare meals for families and an array of advances made possible with the expanding use of the microwave oven.\n",
      "Paul seized this opportunity and created HOT POCKETS® as an innovative answer to societal trends. His new product ensured that Chef America was a great success, and it was eventually purchased by Nestlé.\n",
      "Now Paul is leaving a different legacy — giving back to the community.\n",
      "In addition to his namesake donation to The Paul Merage School of Business, he maintains involvement with organizations that reflect his own immigrant background and his passion for America.\n",
      "These charitable organizations expand educational opportunities for families with low to moderate income levels.\n",
      "The Merage Institute for the American Dream offers major fellowships to outstanding immigrant college students “to help them pursue their American Dream.”\n",
      "And through the Children First Foundation, needy children are provided with educational, developmental and mentorship opportunities.\n",
      "We applaud Paul Merage for his innovation, his inspiration and his drive.\n",
      "“America is a noble society,” he says, “and it inspires you to be noble.”\n",
      "His background in entrepreneurship, sustained business growth and social responsibility serve as an inspiration for all of the programs at the Merage School.\n"
     ]
    }
   ],
   "source": [
    "why_merage = Path('data') / 'why_merage.txt'\n",
    "why_merage = why_merage.read_text()\n",
    "print(why_merage)"
   ]
  },
  {
   "cell_type": "code",
   "execution_count": 133,
   "metadata": {},
   "outputs": [
    {
     "data": {
      "text/plain": [
       "['Inspired Leadership, Digitally Driven',\n",
       " 'As our lives become more digitally mediated, we must adapt both ourselves and our businesses for the disruption inherent in the digital environment.',\n",
       " 'With this vision in mind, The Paul Merage School of Business has completely reframed its curricula to give students the high-caliber, holistic preparation they need to become effective leaders in a digitally-driven world.',\n",
       " 'Top industry executives continually provide the Merage School input on how they see their respective industries changing through the impact of technology.',\n",
       " 'Our transformed curricula reflect new business needs in the contemporary world, focusing on actionable ideas and building a new set of competencies suited to the digital age.',\n",
       " 'Experience-based decision-making skills are integrated into the curriculum with data-driven decision-making at the forefront.',\n",
       " 'Experiential learning components continue to provide real-world education, allowing teams of students to immerse themselves in valuable projects with area companies.',\n",
       " 'Located in the heart of Orange County’s “Tech Coast,“ the Merage School is surrounded by a network of cutting-edge businesses in an evolving ecosystem of tech firms including Amazon, Google, and Western Digital, plus digitally-savvy firms including Capital Group, Disney, Experian, Hyundai, Pacific Life, and Taco Bell.',\n",
       " 'It is in this environment that the Merage School prepares students for the disruptive technology forces they will encounter as future business leaders.',\n",
       " 'The Paul Merage Legacy',\n",
       " 'Paul Merage is a philanthropist, an innovative and successful entrepreneur, and a champion of education.',\n",
       " 'Paul was born in Iran during World War II.',\n",
       " 'In the early 1960s, his father sent him to the United States so that he might have a better future.',\n",
       " 'He arrived alone and could barely speak English.',\n",
       " 'However, he soon enrolled at Hope College in Michigan where he excelled as a top student, giving him the academic accomplishments necessary to transfer to UC Berkeley.',\n",
       " 'By the time he was 22, he had earned both his bachelor’s degree and his MBA.',\n",
       " 'Paul planned his career carefully. He researched the restaurant industry to find out what owners and customers needed most and eventually used this information to found Chef America.',\n",
       " 'With an eye for change, Paul recognized the demographic and social shifts in America — more working parents, less time to prepare meals for families and an array of advances made possible with the expanding use of the microwave oven.',\n",
       " 'Paul seized this opportunity and created HOT POCKETS® as an innovative answer to societal trends. His new product ensured that Chef America was a great success, and it was eventually purchased by Nestlé.',\n",
       " 'Now Paul is leaving a different legacy — giving back to the community.',\n",
       " 'In addition to his namesake donation to The Paul Merage School of Business, he maintains involvement with organizations that reflect his own immigrant background and his passion for America.',\n",
       " 'These charitable organizations expand educational opportunities for families with low to moderate income levels.',\n",
       " 'The Merage Institute for the American Dream offers major fellowships to outstanding immigrant college students “to help them pursue their American Dream.”',\n",
       " 'And through the Children First Foundation, needy children are provided with educational, developmental and mentorship opportunities.',\n",
       " 'We applaud Paul Merage for his innovation, his inspiration and his drive.',\n",
       " '“America is a noble society,” he says, “and it inspires you to be noble.”',\n",
       " 'His background in entrepreneurship, sustained business growth and social responsibility serve as an inspiration for all of the programs at the Merage School.']"
      ]
     },
     "execution_count": 133,
     "metadata": {},
     "output_type": "execute_result"
    }
   ],
   "source": [
    "why_merage = why_merage.split('\\n')\n",
    "why_merage"
   ]
  },
  {
   "cell_type": "code",
   "execution_count": 134,
   "metadata": {},
   "outputs": [
    {
     "data": {
      "text/plain": [
       "0                 Inspired Leadership, Digitally Driven\n",
       "1     As our lives become more digitally mediated, w...\n",
       "2     With this vision in mind, The Paul Merage Scho...\n",
       "3     Top industry executives continually provide th...\n",
       "4     Our transformed curricula reflect new business...\n",
       "5     Experience-based decision-making skills are in...\n",
       "6     Experiential learning components continue to p...\n",
       "7     Located in the heart of Orange County’s “Tech ...\n",
       "8     It is in this environment that the Merage Scho...\n",
       "9                                The Paul Merage Legacy\n",
       "10    Paul Merage is a philanthropist, an innovative...\n",
       "11           Paul was born in Iran during World War II.\n",
       "12    In the early 1960s, his father sent him to the...\n",
       "13     He arrived alone and could barely speak English.\n",
       "14    However, he soon enrolled at Hope College in M...\n",
       "15    By the time he was 22, he had earned both his ...\n",
       "16    Paul planned his career carefully. He research...\n",
       "17    With an eye for change, Paul recognized the de...\n",
       "18    Paul seized this opportunity and created HOT P...\n",
       "19    Now Paul is leaving a different legacy — givin...\n",
       "20    In addition to his namesake donation to The Pa...\n",
       "21    These charitable organizations expand educatio...\n",
       "22    The Merage Institute for the American Dream of...\n",
       "23    And through the Children First Foundation, nee...\n",
       "24    We applaud Paul Merage for his innovation, his...\n",
       "25    “America is a noble society,” he says, “and it...\n",
       "26    His background in entrepreneurship, sustained ...\n",
       "dtype: object"
      ]
     },
     "execution_count": 134,
     "metadata": {},
     "output_type": "execute_result"
    }
   ],
   "source": [
    "why_merage_sentences = pd.Series(why_merage)\n",
    "why_merage_sentences = why_merage_sentences.astype(str)\n",
    "why_merage_sentences"
   ]
  },
  {
   "cell_type": "code",
   "execution_count": 135,
   "metadata": {},
   "outputs": [
    {
     "data": {
      "text/plain": [
       "array(['1960s,', '22,', 'Amazon,', 'America', 'America.', 'American',\n",
       "       'And', 'As', 'Bell.', 'Berkeley.', 'Business', 'Business,', 'By',\n",
       "       'Capital', 'Chef', 'Children', 'Coast,“', 'College', 'County’s',\n",
       "       'Digital,', 'Digitally', 'Disney,', 'Dream', 'Dream.”', 'Driven',\n",
       "       'English.', 'Experian,', 'Experience-based', 'Experiential',\n",
       "       'First', 'Foundation,', 'Google,', 'Group,', 'HOT', 'He', 'His',\n",
       "       'Hope', 'However,', 'Hyundai,', 'II.', 'In', 'Inspired',\n",
       "       'Institute', 'Iran', 'It', 'Leadership,', 'Legacy', 'Life,',\n",
       "       'Located', 'MBA.', 'Merage', 'Michigan', 'Nestlé.', 'Now',\n",
       "       'Orange', 'Our', 'POCKETS®', 'Pacific', 'Paul', 'School',\n",
       "       'School.', 'States', 'Taco', 'The', 'These', 'Top', 'UC', 'United',\n",
       "       'War', 'We', 'Western', 'With', 'World', 'a', 'academic',\n",
       "       'accomplishments', 'actionable', 'adapt', 'addition', 'advances',\n",
       "       'age.', 'all', 'allowing', 'alone', 'an', 'and', 'answer',\n",
       "       'applaud', 'are', 'area', 'array', 'arrived', 'as', 'at',\n",
       "       'bachelor’s', 'back', 'background', 'barely', 'be', 'become',\n",
       "       'better', 'born', 'both', 'building', 'business', 'businesses',\n",
       "       'by', 'career', 'carefully.', 'champion', 'change,', 'changing',\n",
       "       'charitable', 'children', 'college', 'community.', 'companies.',\n",
       "       'competencies', 'completely', 'components', 'contemporary',\n",
       "       'continually', 'continue', 'could', 'created', 'curricula',\n",
       "       'curriculum', 'customers', 'cutting-edge', 'data-driven',\n",
       "       'decision-making', 'degree', 'demographic', 'developmental',\n",
       "       'different', 'digital', 'digitally', 'digitally-driven',\n",
       "       'digitally-savvy', 'disruption', 'disruptive', 'donation',\n",
       "       'drive.', 'during', 'early', 'earned', 'ecosystem', 'education,',\n",
       "       'education.', 'educational', 'educational,', 'effective',\n",
       "       'encounter', 'enrolled', 'ensured', 'entrepreneur,',\n",
       "       'entrepreneurship,', 'environment', 'environment.', 'eventually',\n",
       "       'evolving', 'excelled', 'executives', 'expand', 'expanding', 'eye',\n",
       "       'families', 'father', 'fellowships', 'find', 'firms', 'focusing',\n",
       "       'for', 'forces', 'forefront.', 'found', 'future', 'future.',\n",
       "       'give', 'giving', 'great', 'growth', 'had', 'has', 'have', 'he',\n",
       "       'heart', 'help', 'high-caliber,', 'him', 'his', 'holistic', 'how',\n",
       "       'ideas', 'immerse', 'immigrant', 'impact', 'in', 'including',\n",
       "       'income', 'industries', 'industry', 'information', 'inherent',\n",
       "       'innovation,', 'innovative', 'input', 'inspiration', 'inspires',\n",
       "       'integrated', 'into', 'involvement', 'is', 'it', 'its', 'leaders',\n",
       "       'leaders.', 'learning', 'leaving', 'legacy', 'less', 'levels.',\n",
       "       'lives', 'low', 'made', 'maintains', 'major', 'meals', 'mediated,',\n",
       "       'mentorship', 'microwave', 'might', 'mind,', 'moderate', 'more',\n",
       "       'most', 'must', 'namesake', 'necessary', 'need', 'needed', 'needs',\n",
       "       'needy', 'network', 'new', 'noble', 'noble.”', 'of', 'offers',\n",
       "       'on', 'opportunities', 'opportunities.', 'opportunity',\n",
       "       'organizations', 'our', 'ourselves', 'out', 'outstanding', 'oven.',\n",
       "       'own', 'owners', 'parents,', 'passion', 'philanthropist,',\n",
       "       'planned', 'plus', 'possible', 'preparation', 'prepare',\n",
       "       'prepares', 'product', 'programs', 'projects', 'provide',\n",
       "       'provided', 'purchased', 'pursue', 'real-world', 'recognized',\n",
       "       'reflect', 'reframed', 'researched', 'respective',\n",
       "       'responsibility', 'restaurant', 'says,', 'see', 'seized', 'sent',\n",
       "       'serve', 'set', 'shifts', 'skills', 'so', 'social', 'societal',\n",
       "       'society,”', 'soon', 'speak', 'student,', 'students', 'success,',\n",
       "       'successful', 'suited', 'surrounded', 'sustained', 'teams', 'tech',\n",
       "       'technology', 'technology.', 'that', 'the', 'their', 'them',\n",
       "       'themselves', 'they', 'this', 'through', 'time', 'to', 'top',\n",
       "       'transfer', 'transformed', 'trends.', 'use', 'used', 'valuable',\n",
       "       'vision', 'was', 'we', 'what', 'where', 'will', 'with', 'working',\n",
       "       'world,', 'world.', 'you', '—', '“America', '“Tech', '“and', '“to'],\n",
       "      dtype=object)"
      ]
     },
     "execution_count": 135,
     "metadata": {},
     "output_type": "execute_result"
    }
   ],
   "source": [
    "why_merage_unique_words = np.unique(why_merage_sentences.str.split().explode())\n",
    "why_merage_unique_words"
   ]
  },
  {
   "cell_type": "code",
   "execution_count": 145,
   "metadata": {},
   "outputs": [
    {
     "name": "stderr",
     "output_type": "stream",
     "text": [
      "C:\\Users\\Alex\\AppData\\Local\\Temp\\ipykernel_8604\\4078009494.py:6: RuntimeWarning: divide by zero encountered in scalar divide\n",
      "  idf = np.log(len(why_merage_sentences) / why_merage_sentences.str.contains(re_pat).sum())\n",
      "C:\\Users\\Alex\\AppData\\Local\\Temp\\ipykernel_8604\\4078009494.py:6: RuntimeWarning: divide by zero encountered in scalar divide\n",
      "  idf = np.log(len(why_merage_sentences) / why_merage_sentences.str.contains(re_pat).sum())\n",
      "C:\\Users\\Alex\\AppData\\Local\\Temp\\ipykernel_8604\\4078009494.py:6: RuntimeWarning: divide by zero encountered in scalar divide\n",
      "  idf = np.log(len(why_merage_sentences) / why_merage_sentences.str.contains(re_pat).sum())\n",
      "C:\\Users\\Alex\\AppData\\Local\\Temp\\ipykernel_8604\\4078009494.py:6: RuntimeWarning: divide by zero encountered in scalar divide\n",
      "  idf = np.log(len(why_merage_sentences) / why_merage_sentences.str.contains(re_pat).sum())\n",
      "C:\\Users\\Alex\\AppData\\Local\\Temp\\ipykernel_8604\\4078009494.py:6: RuntimeWarning: divide by zero encountered in scalar divide\n",
      "  idf = np.log(len(why_merage_sentences) / why_merage_sentences.str.contains(re_pat).sum())\n",
      "C:\\Users\\Alex\\AppData\\Local\\Temp\\ipykernel_8604\\4078009494.py:6: RuntimeWarning: divide by zero encountered in scalar divide\n",
      "  idf = np.log(len(why_merage_sentences) / why_merage_sentences.str.contains(re_pat).sum())\n",
      "C:\\Users\\Alex\\AppData\\Local\\Temp\\ipykernel_8604\\4078009494.py:6: RuntimeWarning: divide by zero encountered in scalar divide\n",
      "  idf = np.log(len(why_merage_sentences) / why_merage_sentences.str.contains(re_pat).sum())\n",
      "C:\\Users\\Alex\\AppData\\Local\\Temp\\ipykernel_8604\\4078009494.py:6: RuntimeWarning: divide by zero encountered in scalar divide\n",
      "  idf = np.log(len(why_merage_sentences) / why_merage_sentences.str.contains(re_pat).sum())\n",
      "C:\\Users\\Alex\\AppData\\Local\\Temp\\ipykernel_8604\\4078009494.py:6: RuntimeWarning: divide by zero encountered in scalar divide\n",
      "  idf = np.log(len(why_merage_sentences) / why_merage_sentences.str.contains(re_pat).sum())\n",
      "C:\\Users\\Alex\\AppData\\Local\\Temp\\ipykernel_8604\\4078009494.py:6: RuntimeWarning: divide by zero encountered in scalar divide\n",
      "  idf = np.log(len(why_merage_sentences) / why_merage_sentences.str.contains(re_pat).sum())\n",
      "C:\\Users\\Alex\\AppData\\Local\\Temp\\ipykernel_8604\\4078009494.py:6: RuntimeWarning: divide by zero encountered in scalar divide\n",
      "  idf = np.log(len(why_merage_sentences) / why_merage_sentences.str.contains(re_pat).sum())\n",
      "C:\\Users\\Alex\\AppData\\Local\\Temp\\ipykernel_8604\\4078009494.py:6: RuntimeWarning: divide by zero encountered in scalar divide\n",
      "  idf = np.log(len(why_merage_sentences) / why_merage_sentences.str.contains(re_pat).sum())\n",
      "C:\\Users\\Alex\\AppData\\Local\\Temp\\ipykernel_8604\\4078009494.py:6: RuntimeWarning: divide by zero encountered in scalar divide\n",
      "  idf = np.log(len(why_merage_sentences) / why_merage_sentences.str.contains(re_pat).sum())\n",
      "C:\\Users\\Alex\\AppData\\Local\\Temp\\ipykernel_8604\\4078009494.py:6: RuntimeWarning: divide by zero encountered in scalar divide\n",
      "  idf = np.log(len(why_merage_sentences) / why_merage_sentences.str.contains(re_pat).sum())\n",
      "C:\\Users\\Alex\\AppData\\Local\\Temp\\ipykernel_8604\\4078009494.py:6: RuntimeWarning: divide by zero encountered in scalar divide\n",
      "  idf = np.log(len(why_merage_sentences) / why_merage_sentences.str.contains(re_pat).sum())\n",
      "C:\\Users\\Alex\\AppData\\Local\\Temp\\ipykernel_8604\\4078009494.py:6: RuntimeWarning: divide by zero encountered in scalar divide\n",
      "  idf = np.log(len(why_merage_sentences) / why_merage_sentences.str.contains(re_pat).sum())\n",
      "C:\\Users\\Alex\\AppData\\Local\\Temp\\ipykernel_8604\\4078009494.py:6: RuntimeWarning: divide by zero encountered in scalar divide\n",
      "  idf = np.log(len(why_merage_sentences) / why_merage_sentences.str.contains(re_pat).sum())\n",
      "C:\\Users\\Alex\\AppData\\Local\\Temp\\ipykernel_8604\\4078009494.py:6: RuntimeWarning: divide by zero encountered in scalar divide\n",
      "  idf = np.log(len(why_merage_sentences) / why_merage_sentences.str.contains(re_pat).sum())\n",
      "C:\\Users\\Alex\\AppData\\Local\\Temp\\ipykernel_8604\\4078009494.py:6: RuntimeWarning: divide by zero encountered in scalar divide\n",
      "  idf = np.log(len(why_merage_sentences) / why_merage_sentences.str.contains(re_pat).sum())\n",
      "C:\\Users\\Alex\\AppData\\Local\\Temp\\ipykernel_8604\\4078009494.py:6: RuntimeWarning: divide by zero encountered in scalar divide\n",
      "  idf = np.log(len(why_merage_sentences) / why_merage_sentences.str.contains(re_pat).sum())\n",
      "C:\\Users\\Alex\\AppData\\Local\\Temp\\ipykernel_8604\\4078009494.py:6: RuntimeWarning: divide by zero encountered in scalar divide\n",
      "  idf = np.log(len(why_merage_sentences) / why_merage_sentences.str.contains(re_pat).sum())\n",
      "C:\\Users\\Alex\\AppData\\Local\\Temp\\ipykernel_8604\\4078009494.py:6: RuntimeWarning: divide by zero encountered in scalar divide\n",
      "  idf = np.log(len(why_merage_sentences) / why_merage_sentences.str.contains(re_pat).sum())\n",
      "C:\\Users\\Alex\\AppData\\Local\\Temp\\ipykernel_8604\\4078009494.py:6: RuntimeWarning: divide by zero encountered in scalar divide\n",
      "  idf = np.log(len(why_merage_sentences) / why_merage_sentences.str.contains(re_pat).sum())\n",
      "C:\\Users\\Alex\\AppData\\Local\\Temp\\ipykernel_8604\\4078009494.py:6: RuntimeWarning: divide by zero encountered in scalar divide\n",
      "  idf = np.log(len(why_merage_sentences) / why_merage_sentences.str.contains(re_pat).sum())\n",
      "C:\\Users\\Alex\\AppData\\Local\\Temp\\ipykernel_8604\\4078009494.py:6: RuntimeWarning: divide by zero encountered in scalar divide\n",
      "  idf = np.log(len(why_merage_sentences) / why_merage_sentences.str.contains(re_pat).sum())\n",
      "C:\\Users\\Alex\\AppData\\Local\\Temp\\ipykernel_8604\\4078009494.py:6: RuntimeWarning: divide by zero encountered in scalar divide\n",
      "  idf = np.log(len(why_merage_sentences) / why_merage_sentences.str.contains(re_pat).sum())\n",
      "C:\\Users\\Alex\\AppData\\Local\\Temp\\ipykernel_8604\\4078009494.py:6: RuntimeWarning: divide by zero encountered in scalar divide\n",
      "  idf = np.log(len(why_merage_sentences) / why_merage_sentences.str.contains(re_pat).sum())\n",
      "C:\\Users\\Alex\\AppData\\Local\\Temp\\ipykernel_8604\\4078009494.py:6: RuntimeWarning: divide by zero encountered in scalar divide\n",
      "  idf = np.log(len(why_merage_sentences) / why_merage_sentences.str.contains(re_pat).sum())\n",
      "C:\\Users\\Alex\\AppData\\Local\\Temp\\ipykernel_8604\\4078009494.py:6: RuntimeWarning: divide by zero encountered in scalar divide\n",
      "  idf = np.log(len(why_merage_sentences) / why_merage_sentences.str.contains(re_pat).sum())\n",
      "C:\\Users\\Alex\\AppData\\Local\\Temp\\ipykernel_8604\\4078009494.py:6: RuntimeWarning: divide by zero encountered in scalar divide\n",
      "  idf = np.log(len(why_merage_sentences) / why_merage_sentences.str.contains(re_pat).sum())\n",
      "C:\\Users\\Alex\\AppData\\Local\\Temp\\ipykernel_8604\\4078009494.py:6: RuntimeWarning: divide by zero encountered in scalar divide\n",
      "  idf = np.log(len(why_merage_sentences) / why_merage_sentences.str.contains(re_pat).sum())\n",
      "C:\\Users\\Alex\\AppData\\Local\\Temp\\ipykernel_8604\\4078009494.py:6: RuntimeWarning: divide by zero encountered in scalar divide\n",
      "  idf = np.log(len(why_merage_sentences) / why_merage_sentences.str.contains(re_pat).sum())\n",
      "C:\\Users\\Alex\\AppData\\Local\\Temp\\ipykernel_8604\\4078009494.py:6: RuntimeWarning: divide by zero encountered in scalar divide\n",
      "  idf = np.log(len(why_merage_sentences) / why_merage_sentences.str.contains(re_pat).sum())\n",
      "C:\\Users\\Alex\\AppData\\Local\\Temp\\ipykernel_8604\\4078009494.py:6: RuntimeWarning: divide by zero encountered in scalar divide\n",
      "  idf = np.log(len(why_merage_sentences) / why_merage_sentences.str.contains(re_pat).sum())\n",
      "C:\\Users\\Alex\\AppData\\Local\\Temp\\ipykernel_8604\\4078009494.py:6: RuntimeWarning: divide by zero encountered in scalar divide\n",
      "  idf = np.log(len(why_merage_sentences) / why_merage_sentences.str.contains(re_pat).sum())\n",
      "C:\\Users\\Alex\\AppData\\Local\\Temp\\ipykernel_8604\\4078009494.py:6: RuntimeWarning: divide by zero encountered in scalar divide\n",
      "  idf = np.log(len(why_merage_sentences) / why_merage_sentences.str.contains(re_pat).sum())\n",
      "C:\\Users\\Alex\\AppData\\Local\\Temp\\ipykernel_8604\\4078009494.py:6: RuntimeWarning: divide by zero encountered in scalar divide\n",
      "  idf = np.log(len(why_merage_sentences) / why_merage_sentences.str.contains(re_pat).sum())\n",
      "C:\\Users\\Alex\\AppData\\Local\\Temp\\ipykernel_8604\\4078009494.py:6: RuntimeWarning: divide by zero encountered in scalar divide\n",
      "  idf = np.log(len(why_merage_sentences) / why_merage_sentences.str.contains(re_pat).sum())\n",
      "C:\\Users\\Alex\\AppData\\Local\\Temp\\ipykernel_8604\\4078009494.py:6: RuntimeWarning: divide by zero encountered in scalar divide\n",
      "  idf = np.log(len(why_merage_sentences) / why_merage_sentences.str.contains(re_pat).sum())\n",
      "C:\\Users\\Alex\\AppData\\Local\\Temp\\ipykernel_8604\\4078009494.py:6: RuntimeWarning: divide by zero encountered in scalar divide\n",
      "  idf = np.log(len(why_merage_sentences) / why_merage_sentences.str.contains(re_pat).sum())\n"
     ]
    }
   ],
   "source": [
    "why_merage_tfidf_dict = {}\n",
    "\n",
    "for word in why_merage_unique_words:\n",
    "    re_pat = fr' {word} '\n",
    "    tf = why_merage_sentences.str.count(re_pat) / why_merage_sentences.str.split().str.len()\n",
    "    idf = np.log(len(why_merage_sentences) / why_merage_sentences.str.contains(re_pat).sum())\n",
    "    why_merage_tfidf_dict[word] = tf * idf\n",
    "    \n",
    "why_merage_tfidf = pd.DataFrame(why_merage_tfidf_dict)"
   ]
  },
  {
   "cell_type": "code",
   "execution_count": 146,
   "metadata": {},
   "outputs": [
    {
     "data": {
      "text/plain": [
       "0           Digitally\n",
       "1                 our\n",
       "2            Business\n",
       "3            changing\n",
       "4                 new\n",
       "5     decision-making\n",
       "6            allowing\n",
       "7               firms\n",
       "8          disruptive\n",
       "9                Paul\n",
       "10           champion\n",
       "11               Iran\n",
       "12             1960s,\n",
       "13              alone\n",
       "14                 he\n",
       "15                 he\n",
       "16                 He\n",
       "17                 an\n",
       "18                was\n",
       "19               back\n",
       "20                his\n",
       "21         charitable\n",
       "22           America.\n",
       "23           Children\n",
       "24                his\n",
       "25                 be\n",
       "26                all\n",
       "dtype: object"
      ]
     },
     "execution_count": 146,
     "metadata": {},
     "output_type": "execute_result"
    }
   ],
   "source": [
    "why_merage_tfidf = why_merage_tfidf.dropna(axis=1, how='all')\n",
    "why_merage_tfidf.idxmax(axis=1)"
   ]
  },
  {
   "cell_type": "code",
   "execution_count": 147,
   "metadata": {},
   "outputs": [],
   "source": [
    "def five_largest(row):\n",
    "    return \", \".join(row.index[row.argsort()][-3:])\n"
   ]
  },
  {
   "cell_type": "code",
   "execution_count": 148,
   "metadata": {},
   "outputs": [
    {
     "data": {
      "text/plain": [
       "0                    “to, Leadership,, Digitally\n",
       "1                           lives, inherent, our\n",
       "2                     need, completely, holistic\n",
       "3                    how, respective, industries\n",
       "4                    contemporary, building, new\n",
       "5       data-driven, curriculum, decision-making\n",
       "6                    immerse, projects, allowing\n",
       "7                         tech, firms, including\n",
       "8                    forces, environment, future\n",
       "9                    developmental, Merage, Paul\n",
       "10    entrepreneur,, successful, philanthropist,\n",
       "11                             World, Iran, born\n",
       "12                              States, so, have\n",
       "13                         alone, arrived, could\n",
       "14                            excelled, soon, he\n",
       "15                                  had, he, his\n",
       "16                             He, what, planned\n",
       "17                           shifts, prepare, an\n",
       "18                      purchased, societal, was\n",
       "19                         back, leaving, legacy\n",
       "20                      maintains, namesake, his\n",
       "21                           income, low, expand\n",
       "22                       “to, American, America.\n",
       "23          developmental, provided, Foundation,\n",
       "24                     applaud, innovation,, his\n",
       "25                         you, says,, society,”\n",
       "26                 responsibility, serve, growth\n",
       "dtype: object"
      ]
     },
     "execution_count": 148,
     "metadata": {},
     "output_type": "execute_result"
    }
   ],
   "source": [
    "why_merage_keywords = why_merage_tfidf.apply(five_largest, axis=1)\n",
    "why_merage_keywords"
   ]
  },
  {
   "cell_type": "code",
   "execution_count": 139,
   "metadata": {},
   "outputs": [
    {
     "name": "stdout",
     "output_type": "stream",
     "text": [
      "['technology has become pervasive in the world of business.', 'it is a whole new way of working, and executives need to embrace the new world that their companies operate and we as consumer live in every single day.', 'it is something that we deal with whether it is personal or professional, digital is part of our lives.', \"the job that i have today didn't exist five years ago.\", 'technology has driven change at a faster pace.', 'and too often, you can look at technology at a narrow scope.', \"it's not just IT, technology drives business from the backend, so i think every business aspect of what you has been impacted.\", \"i've spent a lot of my taking analytics approaches with data, and being able to drive decisions in a big data world.\", 'we need more leaders that can lead transformation, and i see the merage school is taking in educating and turning out leaders that are ready and capable to do that.', 'all of our core courses have been completely revamped to address how technology disruption is impacting the various functional areas and that enables our students, our creative thinkers, more strategic thinkers, about how technology disruption impacts businesses.', 'one of the things we really appreciate and enjoy is how we actually learn how we are going to be performing in the business world.', 'we are providing them with foundational skills in analytics, we are making sure that students understand that fundamentally values drive good decision making.', 'you really sense it from day 1, even your peers, are all trying to with you to find ways to improve yourself and to get the most out of the program.', 'our students and staff within our merage career center are extremely fortunate to have numorous industries where either the individual corporate headquarters are located here or operations of large fortune 500 organizations or start ups within out community.', 'the merage student standout for us because they are immerse in kind of our orange county cultural fit with technology and pharma and all of the industries are really growing in our community.', 'as an executive you are engage every single day in the war for talent.', 'to run our company well, we encourage the best poeple to join so i like to have a relationship with the nearby business school and merage school is an excellent school and we have been able to recruit great people to join our organization.', 'to anticipate further disruption and manage through that process is something that is critical.']\n"
     ]
    }
   ],
   "source": [
    "digital_leadership = Path('data') / 'digitally_driven_leadership.txt'\n",
    "digital_leadership = digital_leadership.read_text()\n",
    "digital_leadership = digital_leadership.split(\"\\n\")\n",
    "print(digital_leadership)"
   ]
  },
  {
   "cell_type": "code",
   "execution_count": 140,
   "metadata": {},
   "outputs": [
    {
     "data": {
      "text/plain": [
       "0     technology has become pervasive in the world o...\n",
       "1     it is a whole new way of working, and executiv...\n",
       "2     it is something that we deal with whether it i...\n",
       "3     the job that i have today didn't exist five ye...\n",
       "4        technology has driven change at a faster pace.\n",
       "5     and too often, you can look at technology at a...\n",
       "6     it's not just IT, technology drives business f...\n",
       "7     i've spent a lot of my taking analytics approa...\n",
       "8     we need more leaders that can lead transformat...\n",
       "9     all of our core courses have been completely r...\n",
       "10    one of the things we really appreciate and enj...\n",
       "11    we are providing them with foundational skills...\n",
       "12    you really sense it from day 1, even your peer...\n",
       "13    our students and staff within our merage caree...\n",
       "14    the merage student standout for us because the...\n",
       "15    as an executive you are engage every single da...\n",
       "16    to run our company well, we encourage the best...\n",
       "17    to anticipate further disruption and manage th...\n",
       "dtype: object"
      ]
     },
     "execution_count": 140,
     "metadata": {},
     "output_type": "execute_result"
    }
   ],
   "source": [
    "digital_leadership_sentences = pd.Series(digital_leadership)\n",
    "digital_leadership_sentences"
   ]
  },
  {
   "cell_type": "code",
   "execution_count": 141,
   "metadata": {},
   "outputs": [
    {
     "data": {
      "text/plain": [
       "array(['1,', '500', 'IT,', 'a', 'able', 'about', 'actually', 'address',\n",
       "       'ago.', 'all', 'an', 'analytics', 'analytics,', 'and',\n",
       "       'anticipate', 'appreciate', 'approaches', 'are', 'areas', 'as',\n",
       "       'aspect', 'at', 'backend,', 'be', 'because', 'become', 'been',\n",
       "       'being', 'best', 'big', 'business', 'business.', 'businesses.',\n",
       "       'can', 'capable', 'career', 'center', 'change', 'community.',\n",
       "       'companies', 'company', 'completely', 'consumer', 'core',\n",
       "       'corporate', 'county', 'courses', 'creative', 'critical.',\n",
       "       'cultural', 'data', 'data,', 'day', 'day.', 'deal', 'decision',\n",
       "       'decisions', \"didn't\", 'digital', 'disruption', 'do', 'drive',\n",
       "       'driven', 'drives', 'educating', 'either', 'embrace', 'enables',\n",
       "       'encourage', 'engage', 'enjoy', 'even', 'every', 'excellent',\n",
       "       'executive', 'executives', 'exist', 'extremely', 'faster', 'find',\n",
       "       'fit', 'five', 'for', 'fortunate', 'fortune', 'foundational',\n",
       "       'from', 'functional', 'fundamentally', 'further', 'get', 'going',\n",
       "       'good', 'great', 'growing', 'has', 'have', 'headquarters', 'here',\n",
       "       'how', 'i', \"i've\", 'immerse', 'impacted.', 'impacting', 'impacts',\n",
       "       'improve', 'in', 'individual', 'industries', 'is', 'it', \"it's\",\n",
       "       'job', 'join', 'just', 'kind', 'large', 'lead', 'leaders', 'learn',\n",
       "       'like', 'live', 'lives.', 'located', 'look', 'lot', 'making',\n",
       "       'making.', 'manage', 'merage', 'more', 'most', 'my', 'narrow',\n",
       "       'nearby', 'need', 'new', 'not', 'numorous', 'of', 'often,', 'one',\n",
       "       'operate', 'operations', 'or', 'orange', 'organization.',\n",
       "       'organizations', 'our', 'out', 'pace.', 'part', 'peers,', 'people',\n",
       "       'performing', 'personal', 'pervasive', 'pharma', 'poeple',\n",
       "       'process', 'professional,', 'program.', 'providing', 'ready',\n",
       "       'really', 'recruit', 'relationship', 'revamped', 'run', 'school',\n",
       "       'scope.', 'see', 'sense', 'single', 'skills', 'so', 'something',\n",
       "       'spent', 'staff', 'standout', 'start', 'strategic', 'student',\n",
       "       'students', 'students,', 'sure', 'taking', 'talent.', 'technology',\n",
       "       'that', 'that.', 'the', 'their', 'them', 'they', 'things', 'think',\n",
       "       'thinkers,', 'through', 'to', 'today', 'too', 'transformation,',\n",
       "       'trying', 'turning', 'understand', 'ups', 'us', 'values',\n",
       "       'various', 'war', 'way', 'ways', 'we', 'well,', 'what', 'where',\n",
       "       'whether', 'whole', 'with', 'within', 'working,', 'world',\n",
       "       'world.', 'years', 'you', 'your', 'yourself'], dtype=object)"
      ]
     },
     "execution_count": 141,
     "metadata": {},
     "output_type": "execute_result"
    }
   ],
   "source": [
    "digital_leadership_unique_words = np.unique(digital_leadership_sentences.str.split().explode())\n",
    "digital_leadership_unique_words"
   ]
  },
  {
   "cell_type": "code",
   "execution_count": 149,
   "metadata": {},
   "outputs": [
    {
     "name": "stderr",
     "output_type": "stream",
     "text": [
      "C:\\Users\\Alex\\AppData\\Local\\Temp\\ipykernel_8604\\1738217231.py:6: RuntimeWarning: divide by zero encountered in scalar divide\n",
      "  idf = np.log(len(digital_leadership_sentences) / digital_leadership_sentences.str.contains(re_pat).sum())\n",
      "C:\\Users\\Alex\\AppData\\Local\\Temp\\ipykernel_8604\\1738217231.py:6: RuntimeWarning: divide by zero encountered in scalar divide\n",
      "  idf = np.log(len(digital_leadership_sentences) / digital_leadership_sentences.str.contains(re_pat).sum())\n",
      "C:\\Users\\Alex\\AppData\\Local\\Temp\\ipykernel_8604\\1738217231.py:6: RuntimeWarning: divide by zero encountered in scalar divide\n",
      "  idf = np.log(len(digital_leadership_sentences) / digital_leadership_sentences.str.contains(re_pat).sum())\n",
      "C:\\Users\\Alex\\AppData\\Local\\Temp\\ipykernel_8604\\1738217231.py:6: RuntimeWarning: divide by zero encountered in scalar divide\n",
      "  idf = np.log(len(digital_leadership_sentences) / digital_leadership_sentences.str.contains(re_pat).sum())\n",
      "C:\\Users\\Alex\\AppData\\Local\\Temp\\ipykernel_8604\\1738217231.py:6: RuntimeWarning: divide by zero encountered in scalar divide\n",
      "  idf = np.log(len(digital_leadership_sentences) / digital_leadership_sentences.str.contains(re_pat).sum())\n",
      "C:\\Users\\Alex\\AppData\\Local\\Temp\\ipykernel_8604\\1738217231.py:6: RuntimeWarning: divide by zero encountered in scalar divide\n",
      "  idf = np.log(len(digital_leadership_sentences) / digital_leadership_sentences.str.contains(re_pat).sum())\n",
      "C:\\Users\\Alex\\AppData\\Local\\Temp\\ipykernel_8604\\1738217231.py:6: RuntimeWarning: divide by zero encountered in scalar divide\n",
      "  idf = np.log(len(digital_leadership_sentences) / digital_leadership_sentences.str.contains(re_pat).sum())\n",
      "C:\\Users\\Alex\\AppData\\Local\\Temp\\ipykernel_8604\\1738217231.py:6: RuntimeWarning: divide by zero encountered in scalar divide\n",
      "  idf = np.log(len(digital_leadership_sentences) / digital_leadership_sentences.str.contains(re_pat).sum())\n",
      "C:\\Users\\Alex\\AppData\\Local\\Temp\\ipykernel_8604\\1738217231.py:6: RuntimeWarning: divide by zero encountered in scalar divide\n",
      "  idf = np.log(len(digital_leadership_sentences) / digital_leadership_sentences.str.contains(re_pat).sum())\n",
      "C:\\Users\\Alex\\AppData\\Local\\Temp\\ipykernel_8604\\1738217231.py:6: RuntimeWarning: divide by zero encountered in scalar divide\n",
      "  idf = np.log(len(digital_leadership_sentences) / digital_leadership_sentences.str.contains(re_pat).sum())\n",
      "C:\\Users\\Alex\\AppData\\Local\\Temp\\ipykernel_8604\\1738217231.py:6: RuntimeWarning: divide by zero encountered in scalar divide\n",
      "  idf = np.log(len(digital_leadership_sentences) / digital_leadership_sentences.str.contains(re_pat).sum())\n",
      "C:\\Users\\Alex\\AppData\\Local\\Temp\\ipykernel_8604\\1738217231.py:6: RuntimeWarning: divide by zero encountered in scalar divide\n",
      "  idf = np.log(len(digital_leadership_sentences) / digital_leadership_sentences.str.contains(re_pat).sum())\n",
      "C:\\Users\\Alex\\AppData\\Local\\Temp\\ipykernel_8604\\1738217231.py:6: RuntimeWarning: divide by zero encountered in scalar divide\n",
      "  idf = np.log(len(digital_leadership_sentences) / digital_leadership_sentences.str.contains(re_pat).sum())\n",
      "C:\\Users\\Alex\\AppData\\Local\\Temp\\ipykernel_8604\\1738217231.py:6: RuntimeWarning: divide by zero encountered in scalar divide\n",
      "  idf = np.log(len(digital_leadership_sentences) / digital_leadership_sentences.str.contains(re_pat).sum())\n",
      "C:\\Users\\Alex\\AppData\\Local\\Temp\\ipykernel_8604\\1738217231.py:6: RuntimeWarning: divide by zero encountered in scalar divide\n",
      "  idf = np.log(len(digital_leadership_sentences) / digital_leadership_sentences.str.contains(re_pat).sum())\n",
      "C:\\Users\\Alex\\AppData\\Local\\Temp\\ipykernel_8604\\1738217231.py:6: RuntimeWarning: divide by zero encountered in scalar divide\n",
      "  idf = np.log(len(digital_leadership_sentences) / digital_leadership_sentences.str.contains(re_pat).sum())\n",
      "C:\\Users\\Alex\\AppData\\Local\\Temp\\ipykernel_8604\\1738217231.py:6: RuntimeWarning: divide by zero encountered in scalar divide\n",
      "  idf = np.log(len(digital_leadership_sentences) / digital_leadership_sentences.str.contains(re_pat).sum())\n",
      "C:\\Users\\Alex\\AppData\\Local\\Temp\\ipykernel_8604\\1738217231.py:6: RuntimeWarning: divide by zero encountered in scalar divide\n",
      "  idf = np.log(len(digital_leadership_sentences) / digital_leadership_sentences.str.contains(re_pat).sum())\n"
     ]
    }
   ],
   "source": [
    "digital_leadership_tfidf_dict = {}\n",
    "\n",
    "for word in digital_leadership_unique_words:\n",
    "    re_pat = fr' {word} '\n",
    "    tf = digital_leadership_sentences.str.count(re_pat) / digital_leadership_sentences.str.split().str.len()\n",
    "    idf = np.log(len(digital_leadership_sentences) / digital_leadership_sentences.str.contains(re_pat).sum())\n",
    "    digital_leadership_tfidf_dict[word] = tf * idf\n",
    "    \n",
    "digital_leadership_tfidf = pd.DataFrame(digital_leadership_tfidf_dict)"
   ]
  },
  {
   "cell_type": "code",
   "execution_count": 150,
   "metadata": {},
   "outputs": [
    {
     "data": {
      "text/plain": [
       "0         become\n",
       "1            new\n",
       "2           deal\n",
       "3         didn't\n",
       "4         change\n",
       "5             at\n",
       "6       business\n",
       "7      analytics\n",
       "8        leaders\n",
       "9      thinkers,\n",
       "10           how\n",
       "11    analytics,\n",
       "12            to\n",
       "13        within\n",
       "14       because\n",
       "15        engage\n",
       "16        school\n",
       "17    anticipate\n",
       "dtype: object"
      ]
     },
     "execution_count": 150,
     "metadata": {},
     "output_type": "execute_result"
    }
   ],
   "source": [
    "digital_leadership_tfidf = digital_leadership_tfidf.dropna(axis=1, how='all')\n",
    "digital_leadership_tfidf.idxmax(axis=1)"
   ]
  },
  {
   "cell_type": "code",
   "execution_count": 151,
   "metadata": {},
   "outputs": [
    {
     "data": {
      "text/plain": [
       "0         world, pervasive, become\n",
       "1                way, operate, new\n",
       "2     professional,, deal, digital\n",
       "3                five, didn't, job\n",
       "4           change, faster, driven\n",
       "5                 often,, look, at\n",
       "6            what, think, business\n",
       "7            being, decisions, big\n",
       "8         educating, lead, leaders\n",
       "9       disruption, how, thinkers,\n",
       "10             appreciate, we, how\n",
       "11     sure, analytics,, providing\n",
       "12              ways, yourself, to\n",
       "13       organizations, or, within\n",
       "14         cultural, kind, immerse\n",
       "15          war, engage, executive\n",
       "16                to, join, school\n",
       "17    anticipate, process, through\n",
       "dtype: object"
      ]
     },
     "execution_count": 151,
     "metadata": {},
     "output_type": "execute_result"
    }
   ],
   "source": [
    "digital_leadership_keywords = digital_leadership_tfidf.apply(five_largest, axis=1)\n",
    "digital_leadership_keywords"
   ]
  },
  {
   "cell_type": "code",
   "execution_count": 152,
   "metadata": {},
   "outputs": [
    {
     "name": "stdout",
     "output_type": "stream",
     "text": [
      "['three years ago we decided to launch an focus our MBA around managing in a digital driven world. ', 'so what does that mean.', 'well it meant that we had to go back to the drawing board and revise our entire curriculum. ', 'all of our core courses were fundamentally changed.', 'every single one of them.', \"even the ones that doesn't seem on the surface to be obvious like accounting.\", 'you know a lot of accountants will tell you accounting is accounting.', 'well our accounting faculty came back and said no we are changing our fundamental core class and accounting.', 'organizational behavior thinking about how organizations have changed as aresult of technology.', 'the role of virtual teams, the use of big data, again fundamentally rethinking how we deliver our core classes.', \"we also are in the process of deriving and getting new electives and taking electives and making them more digital savvy but also creating actually fundamentally new electives that aren't offered elsewhere.\", \"one is a strategy elective called strategy in a digital age, which doesn't use anything off-the-shelf.\", \"all the cases the books are all fundamentally new and it's taught by someone who's invested heavily in creating a course around how we think strategically in a digital age\", 'and the second course deals with a particular industry with just media. and entertainment and the digital disruption in that industry we are all in our faculty voted for adopting this strategy', \"It was unit almost unanimously approved and it's embraced by our faculty we are living in this world things and things are changing and we as managers need to think differently\"]\n"
     ]
    }
   ],
   "source": [
    "transforming_curriculum = Path('data') / 'transforming_curricula.txt'\n",
    "transforming_curriculum = transforming_curriculum.read_text()\n",
    "transforming_curriculum = transforming_curriculum.split(\"\\n\")\n",
    "print(transforming_curriculum)"
   ]
  },
  {
   "cell_type": "code",
   "execution_count": 153,
   "metadata": {},
   "outputs": [
    {
     "data": {
      "text/plain": [
       "0     three years ago we decided to launch an focus ...\n",
       "1                               so what does that mean.\n",
       "2     well it meant that we had to go back to the dr...\n",
       "3     all of our core courses were fundamentally cha...\n",
       "4                             every single one of them.\n",
       "5     even the ones that doesn't seem on the surface...\n",
       "6     you know a lot of accountants will tell you ac...\n",
       "7     well our accounting faculty came back and said...\n",
       "8     organizational behavior thinking about how org...\n",
       "9     the role of virtual teams, the use of big data...\n",
       "10    we also are in the process of deriving and get...\n",
       "11    one is a strategy elective called strategy in ...\n",
       "12    all the cases the books are all fundamentally ...\n",
       "13    and the second course deals with a particular ...\n",
       "14    It was unit almost unanimously approved and it...\n",
       "dtype: object"
      ]
     },
     "execution_count": 153,
     "metadata": {},
     "output_type": "execute_result"
    }
   ],
   "source": [
    "transforming_curriculum_sentences = pd.Series(transforming_curriculum)\n",
    "transforming_curriculum_sentences"
   ]
  },
  {
   "cell_type": "code",
   "execution_count": 154,
   "metadata": {},
   "outputs": [
    {
     "data": {
      "text/plain": [
       "array(['It', 'MBA', 'a', 'about', 'accountants', 'accounting',\n",
       "       'accounting.', 'actually', 'adopting', 'again', 'age', 'age,',\n",
       "       'ago', 'all', 'almost', 'also', 'an', 'and', 'anything',\n",
       "       'approved', 'are', \"aren't\", 'aresult', 'around', 'as', 'back',\n",
       "       'be', 'behavior', 'big', 'board', 'books', 'but', 'by', 'called',\n",
       "       'came', 'cases', 'changed', 'changed.', 'changing', 'class',\n",
       "       'classes.', 'core', 'course', 'courses', 'creating', 'curriculum.',\n",
       "       'data,', 'deals', 'decided', 'deliver', 'deriving', 'differently',\n",
       "       'digital', 'disruption', 'does', \"doesn't\", 'drawing', 'driven',\n",
       "       'elective', 'electives', 'elsewhere.', 'embraced', 'entertainment',\n",
       "       'entire', 'even', 'every', 'faculty', 'focus', 'for',\n",
       "       'fundamental', 'fundamentally', 'getting', 'go', 'had', 'have',\n",
       "       'heavily', 'how', 'in', 'industry', 'invested', 'is', 'it', \"it's\",\n",
       "       'just', 'know', 'launch', 'like', 'living', 'lot', 'making',\n",
       "       'managers', 'managing', 'mean.', 'meant', 'media.', 'more', 'need',\n",
       "       'new', 'no', 'obvious', 'of', 'off-the-shelf.', 'offered', 'on',\n",
       "       'one', 'ones', 'organizational', 'organizations', 'our',\n",
       "       'particular', 'process', 'rethinking', 'revise', 'role', 'said',\n",
       "       'savvy', 'second', 'seem', 'single', 'so', 'someone',\n",
       "       'strategically', 'strategy', 'surface', 'taking', 'taught',\n",
       "       'teams,', 'technology.', 'tell', 'that', 'the', 'them', 'them.',\n",
       "       'things', 'think', 'thinking', 'this', 'three', 'to',\n",
       "       'unanimously', 'unit', 'use', 'virtual', 'voted', 'was', 'we',\n",
       "       'well', 'were', 'what', 'which', \"who's\", 'will', 'with', 'world',\n",
       "       'world.', 'years', 'you'], dtype=object)"
      ]
     },
     "execution_count": 154,
     "metadata": {},
     "output_type": "execute_result"
    }
   ],
   "source": [
    "transforming_curriculum_unique_words = np.unique(transforming_curriculum_sentences.str.split().explode())\n",
    "transforming_curriculum_unique_words"
   ]
  },
  {
   "cell_type": "code",
   "execution_count": 155,
   "metadata": {},
   "outputs": [
    {
     "name": "stderr",
     "output_type": "stream",
     "text": [
      "C:\\Users\\Alex\\AppData\\Local\\Temp\\ipykernel_8604\\2484411663.py:6: RuntimeWarning: divide by zero encountered in scalar divide\n",
      "  idf = np.log(len(transforming_curriculum_sentences) / transforming_curriculum_sentences.str.contains(re_pat).sum())\n",
      "C:\\Users\\Alex\\AppData\\Local\\Temp\\ipykernel_8604\\2484411663.py:6: RuntimeWarning: divide by zero encountered in scalar divide\n",
      "  idf = np.log(len(transforming_curriculum_sentences) / transforming_curriculum_sentences.str.contains(re_pat).sum())\n",
      "C:\\Users\\Alex\\AppData\\Local\\Temp\\ipykernel_8604\\2484411663.py:6: RuntimeWarning: divide by zero encountered in scalar divide\n",
      "  idf = np.log(len(transforming_curriculum_sentences) / transforming_curriculum_sentences.str.contains(re_pat).sum())\n",
      "C:\\Users\\Alex\\AppData\\Local\\Temp\\ipykernel_8604\\2484411663.py:6: RuntimeWarning: divide by zero encountered in scalar divide\n",
      "  idf = np.log(len(transforming_curriculum_sentences) / transforming_curriculum_sentences.str.contains(re_pat).sum())\n",
      "C:\\Users\\Alex\\AppData\\Local\\Temp\\ipykernel_8604\\2484411663.py:6: RuntimeWarning: divide by zero encountered in scalar divide\n",
      "  idf = np.log(len(transforming_curriculum_sentences) / transforming_curriculum_sentences.str.contains(re_pat).sum())\n",
      "C:\\Users\\Alex\\AppData\\Local\\Temp\\ipykernel_8604\\2484411663.py:6: RuntimeWarning: divide by zero encountered in scalar divide\n",
      "  idf = np.log(len(transforming_curriculum_sentences) / transforming_curriculum_sentences.str.contains(re_pat).sum())\n",
      "C:\\Users\\Alex\\AppData\\Local\\Temp\\ipykernel_8604\\2484411663.py:6: RuntimeWarning: divide by zero encountered in scalar divide\n",
      "  idf = np.log(len(transforming_curriculum_sentences) / transforming_curriculum_sentences.str.contains(re_pat).sum())\n",
      "C:\\Users\\Alex\\AppData\\Local\\Temp\\ipykernel_8604\\2484411663.py:6: RuntimeWarning: divide by zero encountered in scalar divide\n",
      "  idf = np.log(len(transforming_curriculum_sentences) / transforming_curriculum_sentences.str.contains(re_pat).sum())\n",
      "C:\\Users\\Alex\\AppData\\Local\\Temp\\ipykernel_8604\\2484411663.py:6: RuntimeWarning: divide by zero encountered in scalar divide\n",
      "  idf = np.log(len(transforming_curriculum_sentences) / transforming_curriculum_sentences.str.contains(re_pat).sum())\n",
      "C:\\Users\\Alex\\AppData\\Local\\Temp\\ipykernel_8604\\2484411663.py:6: RuntimeWarning: divide by zero encountered in scalar divide\n",
      "  idf = np.log(len(transforming_curriculum_sentences) / transforming_curriculum_sentences.str.contains(re_pat).sum())\n",
      "C:\\Users\\Alex\\AppData\\Local\\Temp\\ipykernel_8604\\2484411663.py:6: RuntimeWarning: divide by zero encountered in scalar divide\n",
      "  idf = np.log(len(transforming_curriculum_sentences) / transforming_curriculum_sentences.str.contains(re_pat).sum())\n",
      "C:\\Users\\Alex\\AppData\\Local\\Temp\\ipykernel_8604\\2484411663.py:6: RuntimeWarning: divide by zero encountered in scalar divide\n",
      "  idf = np.log(len(transforming_curriculum_sentences) / transforming_curriculum_sentences.str.contains(re_pat).sum())\n",
      "C:\\Users\\Alex\\AppData\\Local\\Temp\\ipykernel_8604\\2484411663.py:6: RuntimeWarning: divide by zero encountered in scalar divide\n",
      "  idf = np.log(len(transforming_curriculum_sentences) / transforming_curriculum_sentences.str.contains(re_pat).sum())\n",
      "C:\\Users\\Alex\\AppData\\Local\\Temp\\ipykernel_8604\\2484411663.py:6: RuntimeWarning: divide by zero encountered in scalar divide\n",
      "  idf = np.log(len(transforming_curriculum_sentences) / transforming_curriculum_sentences.str.contains(re_pat).sum())\n",
      "C:\\Users\\Alex\\AppData\\Local\\Temp\\ipykernel_8604\\2484411663.py:6: RuntimeWarning: divide by zero encountered in scalar divide\n",
      "  idf = np.log(len(transforming_curriculum_sentences) / transforming_curriculum_sentences.str.contains(re_pat).sum())\n",
      "C:\\Users\\Alex\\AppData\\Local\\Temp\\ipykernel_8604\\2484411663.py:6: RuntimeWarning: divide by zero encountered in scalar divide\n",
      "  idf = np.log(len(transforming_curriculum_sentences) / transforming_curriculum_sentences.str.contains(re_pat).sum())\n"
     ]
    }
   ],
   "source": [
    "transforming_curriculum_tfidf_dict = {}\n",
    "\n",
    "for word in transforming_curriculum_unique_words:\n",
    "    re_pat = fr' {word} '\n",
    "    tf = transforming_curriculum_sentences.str.count(re_pat) / transforming_curriculum_sentences.str.split().str.len()\n",
    "    idf = np.log(len(transforming_curriculum_sentences) / transforming_curriculum_sentences.str.contains(re_pat).sum())\n",
    "    transforming_curriculum_tfidf_dict[word] = tf * idf\n",
    "    \n",
    "transforming_curriculum_tfidf = pd.DataFrame(transforming_curriculum_tfidf_dict)"
   ]
  },
  {
   "cell_type": "code",
   "execution_count": 156,
   "metadata": {},
   "outputs": [
    {
     "data": {
      "text/plain": [
       "0             MBA\n",
       "1            does\n",
       "2           board\n",
       "3         courses\n",
       "4             one\n",
       "5              be\n",
       "6     accountants\n",
       "7            came\n",
       "8           about\n",
       "9           again\n",
       "10      electives\n",
       "11       strategy\n",
       "12          books\n",
       "13       industry\n",
       "14         things\n",
       "dtype: object"
      ]
     },
     "execution_count": 156,
     "metadata": {},
     "output_type": "execute_result"
    }
   ],
   "source": [
    "transforming_curriculum_tfidf = transforming_curriculum_tfidf.dropna(axis=1, how='all')\n",
    "transforming_curriculum_tfidf.idxmax(axis=1)"
   ]
  },
  {
   "cell_type": "code",
   "execution_count": 157,
   "metadata": {},
   "outputs": [
    {
     "data": {
      "text/plain": [
       "0               managing, ago, MBA\n",
       "1                 that, what, does\n",
       "2                  revise, go, had\n",
       "3              core, courses, were\n",
       "4                  of, single, one\n",
       "5             be, surface, obvious\n",
       "6           accountants, tell, you\n",
       "7                came, said, class\n",
       "8       changed, aresult, thinking\n",
       "9         role, teams,, rethinking\n",
       "10            new, also, electives\n",
       "11    anything, elective, strategy\n",
       "12        cases, heavily, invested\n",
       "13          media., industry, with\n",
       "14        unanimously, and, things\n",
       "dtype: object"
      ]
     },
     "execution_count": 157,
     "metadata": {},
     "output_type": "execute_result"
    }
   ],
   "source": [
    "transforming_curriculum_keywords = transforming_curriculum_tfidf.apply(five_largest, axis=1)\n",
    "transforming_curriculum_keywords"
   ]
  }
 ],
 "metadata": {
  "kernelspec": {
   "display_name": "Python 3",
   "language": "python",
   "name": "python3"
  },
  "language_info": {
   "codemirror_mode": {
    "name": "ipython",
    "version": 3
   },
   "file_extension": ".py",
   "mimetype": "text/x-python",
   "name": "python",
   "nbconvert_exporter": "python",
   "pygments_lexer": "ipython3",
   "version": "3.10.12"
  }
 },
 "nbformat": 4,
 "nbformat_minor": 2
}
